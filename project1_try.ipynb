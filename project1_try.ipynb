{
 "cells": [
  {
   "cell_type": "code",
   "execution_count": 18,
   "metadata": {},
   "outputs": [
    {
     "data": {
      "text/html": [
       "<div>\n",
       "<style scoped>\n",
       "    .dataframe tbody tr th:only-of-type {\n",
       "        vertical-align: middle;\n",
       "    }\n",
       "\n",
       "    .dataframe tbody tr th {\n",
       "        vertical-align: top;\n",
       "    }\n",
       "\n",
       "    .dataframe thead th {\n",
       "        text-align: right;\n",
       "    }\n",
       "</style>\n",
       "<table border=\"1\" class=\"dataframe\">\n",
       "  <thead>\n",
       "    <tr style=\"text-align: right;\">\n",
       "      <th></th>\n",
       "      <th>year</th>\n",
       "      <th>month</th>\n",
       "      <th>day</th>\n",
       "      <th>decimal</th>\n",
       "      <th>average</th>\n",
       "      <th>ndays</th>\n",
       "      <th>1 year ago</th>\n",
       "      <th>10 years ago</th>\n",
       "      <th>increase since 1800</th>\n",
       "    </tr>\n",
       "  </thead>\n",
       "  <tbody>\n",
       "    <tr>\n",
       "      <th>0</th>\n",
       "      <td>1974</td>\n",
       "      <td>5</td>\n",
       "      <td>19</td>\n",
       "      <td>1974.3795</td>\n",
       "      <td>333.37</td>\n",
       "      <td>5</td>\n",
       "      <td>-999.99</td>\n",
       "      <td>-999.99</td>\n",
       "      <td>50.39</td>\n",
       "    </tr>\n",
       "    <tr>\n",
       "      <th>1</th>\n",
       "      <td>1974</td>\n",
       "      <td>5</td>\n",
       "      <td>26</td>\n",
       "      <td>1974.3986</td>\n",
       "      <td>332.95</td>\n",
       "      <td>6</td>\n",
       "      <td>-999.99</td>\n",
       "      <td>-999.99</td>\n",
       "      <td>50.05</td>\n",
       "    </tr>\n",
       "    <tr>\n",
       "      <th>2</th>\n",
       "      <td>1974</td>\n",
       "      <td>6</td>\n",
       "      <td>2</td>\n",
       "      <td>1974.4178</td>\n",
       "      <td>332.35</td>\n",
       "      <td>5</td>\n",
       "      <td>-999.99</td>\n",
       "      <td>-999.99</td>\n",
       "      <td>49.60</td>\n",
       "    </tr>\n",
       "    <tr>\n",
       "      <th>3</th>\n",
       "      <td>1974</td>\n",
       "      <td>6</td>\n",
       "      <td>9</td>\n",
       "      <td>1974.4370</td>\n",
       "      <td>332.20</td>\n",
       "      <td>7</td>\n",
       "      <td>-999.99</td>\n",
       "      <td>-999.99</td>\n",
       "      <td>49.65</td>\n",
       "    </tr>\n",
       "    <tr>\n",
       "      <th>4</th>\n",
       "      <td>1974</td>\n",
       "      <td>6</td>\n",
       "      <td>16</td>\n",
       "      <td>1974.4562</td>\n",
       "      <td>332.37</td>\n",
       "      <td>7</td>\n",
       "      <td>-999.99</td>\n",
       "      <td>-999.99</td>\n",
       "      <td>50.06</td>\n",
       "    </tr>\n",
       "    <tr>\n",
       "      <th>...</th>\n",
       "      <td>...</td>\n",
       "      <td>...</td>\n",
       "      <td>...</td>\n",
       "      <td>...</td>\n",
       "      <td>...</td>\n",
       "      <td>...</td>\n",
       "      <td>...</td>\n",
       "      <td>...</td>\n",
       "      <td>...</td>\n",
       "    </tr>\n",
       "    <tr>\n",
       "      <th>2519</th>\n",
       "      <td>2022</td>\n",
       "      <td>8</td>\n",
       "      <td>28</td>\n",
       "      <td>2022.6562</td>\n",
       "      <td>416.54</td>\n",
       "      <td>5</td>\n",
       "      <td>412.83</td>\n",
       "      <td>392.02</td>\n",
       "      <td>139.49</td>\n",
       "    </tr>\n",
       "    <tr>\n",
       "      <th>2520</th>\n",
       "      <td>2022</td>\n",
       "      <td>9</td>\n",
       "      <td>4</td>\n",
       "      <td>2022.6753</td>\n",
       "      <td>416.33</td>\n",
       "      <td>7</td>\n",
       "      <td>413.41</td>\n",
       "      <td>391.85</td>\n",
       "      <td>139.62</td>\n",
       "    </tr>\n",
       "    <tr>\n",
       "      <th>2521</th>\n",
       "      <td>2022</td>\n",
       "      <td>9</td>\n",
       "      <td>11</td>\n",
       "      <td>2022.6945</td>\n",
       "      <td>416.05</td>\n",
       "      <td>6</td>\n",
       "      <td>413.07</td>\n",
       "      <td>391.10</td>\n",
       "      <td>139.60</td>\n",
       "    </tr>\n",
       "    <tr>\n",
       "      <th>2522</th>\n",
       "      <td>2022</td>\n",
       "      <td>9</td>\n",
       "      <td>18</td>\n",
       "      <td>2022.7137</td>\n",
       "      <td>415.57</td>\n",
       "      <td>7</td>\n",
       "      <td>413.32</td>\n",
       "      <td>391.02</td>\n",
       "      <td>139.27</td>\n",
       "    </tr>\n",
       "    <tr>\n",
       "      <th>2523</th>\n",
       "      <td>2022</td>\n",
       "      <td>9</td>\n",
       "      <td>25</td>\n",
       "      <td>2022.7329</td>\n",
       "      <td>415.57</td>\n",
       "      <td>7</td>\n",
       "      <td>413.32</td>\n",
       "      <td>391.07</td>\n",
       "      <td>139.32</td>\n",
       "    </tr>\n",
       "  </tbody>\n",
       "</table>\n",
       "<p>2524 rows × 9 columns</p>\n",
       "</div>"
      ],
      "text/plain": [
       "      year  month  day    decimal  average  ndays  1 year ago  10 years ago  \\\n",
       "0     1974      5   19  1974.3795   333.37      5     -999.99       -999.99   \n",
       "1     1974      5   26  1974.3986   332.95      6     -999.99       -999.99   \n",
       "2     1974      6    2  1974.4178   332.35      5     -999.99       -999.99   \n",
       "3     1974      6    9  1974.4370   332.20      7     -999.99       -999.99   \n",
       "4     1974      6   16  1974.4562   332.37      7     -999.99       -999.99   \n",
       "...    ...    ...  ...        ...      ...    ...         ...           ...   \n",
       "2519  2022      8   28  2022.6562   416.54      5      412.83        392.02   \n",
       "2520  2022      9    4  2022.6753   416.33      7      413.41        391.85   \n",
       "2521  2022      9   11  2022.6945   416.05      6      413.07        391.10   \n",
       "2522  2022      9   18  2022.7137   415.57      7      413.32        391.02   \n",
       "2523  2022      9   25  2022.7329   415.57      7      413.32        391.07   \n",
       "\n",
       "      increase since 1800  \n",
       "0                   50.39  \n",
       "1                   50.05  \n",
       "2                   49.60  \n",
       "3                   49.65  \n",
       "4                   50.06  \n",
       "...                   ...  \n",
       "2519               139.49  \n",
       "2520               139.62  \n",
       "2521               139.60  \n",
       "2522               139.27  \n",
       "2523               139.32  \n",
       "\n",
       "[2524 rows x 9 columns]"
      ]
     },
     "execution_count": 18,
     "metadata": {},
     "output_type": "execute_result"
    }
   ],
   "source": [
    "#open the file and skip rows\n",
    "import pandas as pd\n",
    "import matplotlib as plt\n",
    "\n",
    "df = pd.read_csv('co2_weekly_mlo.csv',skiprows=47)\n",
    "\n",
    "df"
   ]
  },
  {
   "cell_type": "code",
   "execution_count": 19,
   "metadata": {},
   "outputs": [
    {
     "name": "stdout",
     "output_type": "stream",
     "text": [
      "<class 'pandas.core.frame.DataFrame'>\n",
      "RangeIndex: 2524 entries, 0 to 2523\n",
      "Data columns (total 9 columns):\n",
      " #   Column               Non-Null Count  Dtype  \n",
      "---  ------               --------------  -----  \n",
      " 0   year                 2524 non-null   int64  \n",
      " 1   month                2524 non-null   int64  \n",
      " 2   day                  2524 non-null   int64  \n",
      " 3   decimal              2524 non-null   float64\n",
      " 4   average              2524 non-null   float64\n",
      " 5   ndays                2524 non-null   int64  \n",
      " 6   1 year ago           2524 non-null   float64\n",
      " 7   10 years ago         2524 non-null   float64\n",
      " 8   increase since 1800  2524 non-null   float64\n",
      "dtypes: float64(5), int64(4)\n",
      "memory usage: 177.6 KB\n"
     ]
    }
   ],
   "source": [
    "df.info()"
   ]
  },
  {
   "cell_type": "code",
   "execution_count": 20,
   "metadata": {},
   "outputs": [
    {
     "data": {
      "text/plain": [
       "\"groupby_year_avg = df.groupby(['year']).mean()\\n\\ndata_manplt_jan = (df['month'] == 1)\\ndata_manplt_dec = (df['month'] == 12)\\n\\nprint(groupby_year_avg)\\nprint(data_manplt_dec)\\nprint(data_manplt_jan)\\nincrease_annual_CO2 = data_manplt_dec-data_manplt_jan\\nprint(increase_annual_CO2)\\nplt.plot(df['year'],increase_annual_CO2['average'])\""
      ]
     },
     "execution_count": 20,
     "metadata": {},
     "output_type": "execute_result"
    }
   ],
   "source": [
    "import matplotlib as plt\n",
    "import numpy as np\n",
    "\n",
    "'''groupby_year_avg = df.groupby(['year']).mean()\n",
    "\n",
    "data_manplt_jan = (df['month'] == 1)\n",
    "data_manplt_dec = (df['month'] == 12)\n",
    "\n",
    "print(groupby_year_avg)\n",
    "print(data_manplt_dec)\n",
    "print(data_manplt_jan)\n",
    "increase_annual_CO2 = data_manplt_dec-data_manplt_jan\n",
    "print(increase_annual_CO2)\n",
    "plt.plot(df['year'],increase_annual_CO2['average'])'''\n",
    "\n",
    "\n"
   ]
  },
  {
   "cell_type": "code",
   "execution_count": 21,
   "metadata": {},
   "outputs": [
    {
     "data": {
      "text/plain": [
       "\"set year column as index\\ngroupby_year_avg = df.groupby(['year'])\\ngroupby_year_avg.head()\\ngroupby_year_avg.set_index('year',inplace=True)\\n\\n# translate index name into English\\n#df.index.name = 'year'\\n\\n# calculate the yearly average air temperature\\ngroupby_year_avg['average'] = groupby_year_avg.mean(axis=4)\\n\\n# drop columns containing monthly values\\ngroupby_year_avg = groupby_year_avg[['average']]\\n\\n# visualize the first 5 columns\\ngroupby_year_avg.head()\""
      ]
     },
     "execution_count": 21,
     "metadata": {},
     "output_type": "execute_result"
    }
   ],
   "source": [
    "'''set year column as index\n",
    "groupby_year_avg = df.groupby(['year'])\n",
    "groupby_year_avg.head()\n",
    "groupby_year_avg.set_index('year',inplace=True)\n",
    "\n",
    "# translate index name into English\n",
    "#df.index.name = 'year'\n",
    "\n",
    "# calculate the yearly average air temperature\n",
    "groupby_year_avg['average'] = groupby_year_avg.mean(axis=4)\n",
    "\n",
    "# drop columns containing monthly values\n",
    "groupby_year_avg = groupby_year_avg[['average']]\n",
    "\n",
    "# visualize the first 5 columns\n",
    "groupby_year_avg.head()'''"
   ]
  },
  {
   "cell_type": "code",
   "execution_count": 22,
   "metadata": {},
   "outputs": [
    {
     "data": {
      "text/html": [
       "<div>\n",
       "<style scoped>\n",
       "    .dataframe tbody tr th:only-of-type {\n",
       "        vertical-align: middle;\n",
       "    }\n",
       "\n",
       "    .dataframe tbody tr th {\n",
       "        vertical-align: top;\n",
       "    }\n",
       "\n",
       "    .dataframe thead th {\n",
       "        text-align: right;\n",
       "    }\n",
       "</style>\n",
       "<table border=\"1\" class=\"dataframe\">\n",
       "  <thead>\n",
       "    <tr style=\"text-align: right;\">\n",
       "      <th></th>\n",
       "      <th>year</th>\n",
       "      <th>month</th>\n",
       "      <th>day</th>\n",
       "      <th>decimal</th>\n",
       "      <th>average</th>\n",
       "      <th>ndays</th>\n",
       "      <th>1 year ago</th>\n",
       "      <th>10 years ago</th>\n",
       "      <th>increase since 1800</th>\n",
       "    </tr>\n",
       "  </thead>\n",
       "  <tbody>\n",
       "    <tr>\n",
       "      <th>0</th>\n",
       "      <td>1974</td>\n",
       "      <td>5</td>\n",
       "      <td>19</td>\n",
       "      <td>1974.3795</td>\n",
       "      <td>333.37</td>\n",
       "      <td>5</td>\n",
       "      <td>-999.99</td>\n",
       "      <td>-999.99</td>\n",
       "      <td>50.39</td>\n",
       "    </tr>\n",
       "    <tr>\n",
       "      <th>1</th>\n",
       "      <td>1974</td>\n",
       "      <td>5</td>\n",
       "      <td>26</td>\n",
       "      <td>1974.3986</td>\n",
       "      <td>332.95</td>\n",
       "      <td>6</td>\n",
       "      <td>-999.99</td>\n",
       "      <td>-999.99</td>\n",
       "      <td>50.05</td>\n",
       "    </tr>\n",
       "    <tr>\n",
       "      <th>2</th>\n",
       "      <td>1974</td>\n",
       "      <td>6</td>\n",
       "      <td>2</td>\n",
       "      <td>1974.4178</td>\n",
       "      <td>332.35</td>\n",
       "      <td>5</td>\n",
       "      <td>-999.99</td>\n",
       "      <td>-999.99</td>\n",
       "      <td>49.60</td>\n",
       "    </tr>\n",
       "    <tr>\n",
       "      <th>3</th>\n",
       "      <td>1974</td>\n",
       "      <td>6</td>\n",
       "      <td>9</td>\n",
       "      <td>1974.4370</td>\n",
       "      <td>332.20</td>\n",
       "      <td>7</td>\n",
       "      <td>-999.99</td>\n",
       "      <td>-999.99</td>\n",
       "      <td>49.65</td>\n",
       "    </tr>\n",
       "    <tr>\n",
       "      <th>4</th>\n",
       "      <td>1974</td>\n",
       "      <td>6</td>\n",
       "      <td>16</td>\n",
       "      <td>1974.4562</td>\n",
       "      <td>332.37</td>\n",
       "      <td>7</td>\n",
       "      <td>-999.99</td>\n",
       "      <td>-999.99</td>\n",
       "      <td>50.06</td>\n",
       "    </tr>\n",
       "    <tr>\n",
       "      <th>...</th>\n",
       "      <td>...</td>\n",
       "      <td>...</td>\n",
       "      <td>...</td>\n",
       "      <td>...</td>\n",
       "      <td>...</td>\n",
       "      <td>...</td>\n",
       "      <td>...</td>\n",
       "      <td>...</td>\n",
       "      <td>...</td>\n",
       "    </tr>\n",
       "    <tr>\n",
       "      <th>2485</th>\n",
       "      <td>2022</td>\n",
       "      <td>1</td>\n",
       "      <td>2</td>\n",
       "      <td>2022.0041</td>\n",
       "      <td>417.43</td>\n",
       "      <td>6</td>\n",
       "      <td>415.44</td>\n",
       "      <td>393.18</td>\n",
       "      <td>137.35</td>\n",
       "    </tr>\n",
       "    <tr>\n",
       "      <th>2486</th>\n",
       "      <td>2022</td>\n",
       "      <td>1</td>\n",
       "      <td>9</td>\n",
       "      <td>2022.0233</td>\n",
       "      <td>418.33</td>\n",
       "      <td>7</td>\n",
       "      <td>415.06</td>\n",
       "      <td>393.99</td>\n",
       "      <td>138.03</td>\n",
       "    </tr>\n",
       "    <tr>\n",
       "      <th>2487</th>\n",
       "      <td>2022</td>\n",
       "      <td>1</td>\n",
       "      <td>16</td>\n",
       "      <td>2022.0425</td>\n",
       "      <td>417.62</td>\n",
       "      <td>7</td>\n",
       "      <td>415.26</td>\n",
       "      <td>392.90</td>\n",
       "      <td>137.13</td>\n",
       "    </tr>\n",
       "    <tr>\n",
       "      <th>2488</th>\n",
       "      <td>2022</td>\n",
       "      <td>1</td>\n",
       "      <td>23</td>\n",
       "      <td>2022.0616</td>\n",
       "      <td>419.13</td>\n",
       "      <td>6</td>\n",
       "      <td>416.04</td>\n",
       "      <td>393.57</td>\n",
       "      <td>138.48</td>\n",
       "    </tr>\n",
       "    <tr>\n",
       "      <th>2489</th>\n",
       "      <td>2022</td>\n",
       "      <td>1</td>\n",
       "      <td>30</td>\n",
       "      <td>2022.0808</td>\n",
       "      <td>419.19</td>\n",
       "      <td>7</td>\n",
       "      <td>416.89</td>\n",
       "      <td>393.28</td>\n",
       "      <td>138.41</td>\n",
       "    </tr>\n",
       "  </tbody>\n",
       "</table>\n",
       "<p>245 rows × 9 columns</p>\n",
       "</div>"
      ],
      "text/plain": [
       "      year  month  day    decimal  average  ndays  1 year ago  10 years ago  \\\n",
       "0     1974      5   19  1974.3795   333.37      5     -999.99       -999.99   \n",
       "1     1974      5   26  1974.3986   332.95      6     -999.99       -999.99   \n",
       "2     1974      6    2  1974.4178   332.35      5     -999.99       -999.99   \n",
       "3     1974      6    9  1974.4370   332.20      7     -999.99       -999.99   \n",
       "4     1974      6   16  1974.4562   332.37      7     -999.99       -999.99   \n",
       "...    ...    ...  ...        ...      ...    ...         ...           ...   \n",
       "2485  2022      1    2  2022.0041   417.43      6      415.44        393.18   \n",
       "2486  2022      1    9  2022.0233   418.33      7      415.06        393.99   \n",
       "2487  2022      1   16  2022.0425   417.62      7      415.26        392.90   \n",
       "2488  2022      1   23  2022.0616   419.13      6      416.04        393.57   \n",
       "2489  2022      1   30  2022.0808   419.19      7      416.89        393.28   \n",
       "\n",
       "      increase since 1800  \n",
       "0                   50.39  \n",
       "1                   50.05  \n",
       "2                   49.60  \n",
       "3                   49.65  \n",
       "4                   50.06  \n",
       "...                   ...  \n",
       "2485               137.35  \n",
       "2486               138.03  \n",
       "2487               137.13  \n",
       "2488               138.48  \n",
       "2489               138.41  \n",
       "\n",
       "[245 rows x 9 columns]"
      ]
     },
     "execution_count": 22,
     "metadata": {},
     "output_type": "execute_result"
    }
   ],
   "source": [
    "\n",
    "\n",
    "df=df.groupby(\"year\")\n",
    "df.head()\n",
    "\n"
   ]
  },
  {
   "cell_type": "code",
   "execution_count": 23,
   "metadata": {},
   "outputs": [],
   "source": [
    "df = df['average']"
   ]
  },
  {
   "cell_type": "code",
   "execution_count": 24,
   "metadata": {},
   "outputs": [
    {
     "name": "stderr",
     "output_type": "stream",
     "text": [
      "C:\\Users\\sehba\\AppData\\Local\\Temp\\ipykernel_21928\\2191536302.py:4: MatplotlibDeprecationWarning: The seaborn styles shipped by Matplotlib are deprecated since 3.6, as they no longer correspond to the styles shipped by seaborn. However, they will remain available as 'seaborn-v0_8-<style>'. Alternatively, directly use the seaborn API instead.\n",
      "  plt.style.use('seaborn')\n"
     ]
    },
    {
     "data": {
      "text/plain": [
       "Text(0, 0.5, 'Temperature [°C]')"
      ]
     },
     "execution_count": 24,
     "metadata": {},
     "output_type": "execute_result"
    },
    {
     "data": {
      "image/png": "[encoded data removed]",
      "text/plain": [
       "<Figure size 1200x600 with 1 Axes>"
      ]
     },
     "metadata": {},
     "output_type": "display_data"
    }
   ],
   "source": [
    "import matplotlib.pyplot as plt\n",
    "\n",
    "%matplotlib inline\n",
    "plt.style.use('seaborn')\n",
    "\n",
    "# line plot - the yearly average air temperature in Barcelona\n",
    "df.plot(color='green', linewidth=3, figsize=(12,6))\n",
    "\n",
    "# modify ticks size\n",
    "plt.xticks(fontsize=14)\n",
    "plt.yticks(fontsize=14)\n",
    "plt.legend('')\n",
    "\n",
    "# title and labels\n",
    "plt.title('The yearly average air temperature in Barcelona', fontsize=20)\n",
    "plt.xlabel('Year', fontsize=16)\n",
    "plt.ylabel('Temperature [°C]', fontsize=16)"
   ]
  },
  {
   "cell_type": "code",
   "execution_count": 30,
   "metadata": {},
   "outputs": [
    {
     "ename": "TypeError",
     "evalue": "'SeriesGroupBy' object does not support item assignment",
     "output_type": "error",
     "traceback": [
      "\u001b[1;31m---------------------------------------------------------------------------\u001b[0m",
      "\u001b[1;31mTypeError\u001b[0m                                 Traceback (most recent call last)",
      "Cell \u001b[1;32mIn [30], line 3\u001b[0m\n\u001b[0;32m      1\u001b[0m \u001b[39m# ambient air temperature\u001b[39;00m\n\u001b[0;32m      2\u001b[0m \u001b[39m# the simple moving average over a period of 10 years\u001b[39;00m\n\u001b[1;32m----> 3\u001b[0m df[\u001b[39m'\u001b[39;49m\u001b[39mSMA_10\u001b[39;49m\u001b[39m'\u001b[39;49m] \u001b[39m=\u001b[39m df\u001b[39m.\u001b[39mrolling(\u001b[39m10\u001b[39m, min_periods\u001b[39m=\u001b[39m\u001b[39m1\u001b[39m)\u001b[39m.\u001b[39mmean()\n\u001b[0;32m      5\u001b[0m \u001b[39m# the simple moving average over a period of 20 year\u001b[39;00m\n\u001b[0;32m      6\u001b[0m df[\u001b[39m'\u001b[39m\u001b[39mSMA_20\u001b[39m\u001b[39m'\u001b[39m] \u001b[39m=\u001b[39m df\u001b[39m.\u001b[39mrolling(\u001b[39m20\u001b[39m, min_periods\u001b[39m=\u001b[39m\u001b[39m1\u001b[39m)\u001b[39m.\u001b[39mmean()\n",
      "\u001b[1;31mTypeError\u001b[0m: 'SeriesGroupBy' object does not support item assignment"
     ]
    }
   ],
   "source": [
    "# ambient air temperature\n",
    "# the simple moving average over a period of 10 years\n",
    "df['SMA_10'] = df.rolling(10, min_periods=1).mean()\n",
    "\n",
    "# the simple moving average over a period of 20 year\n",
    "df['SMA_20'] = df.rolling(20, min_periods=1).mean()\n",
    "\n"
   ]
  },
  {
   "cell_type": "code",
   "execution_count": 25,
   "metadata": {},
   "outputs": [
    {
     "data": {
      "text/plain": [
       "\"'yearly_avg_1 = yearly_avg['average']\\nyearly_avg_1.head()\\nyearly_avg.iloc[:,3]\""
      ]
     },
     "execution_count": 25,
     "metadata": {},
     "output_type": "execute_result"
    }
   ],
   "source": [
    "#yearly_avg = groupby_year_avg.mean(['average'])\n",
    "\n",
    "''''yearly_avg_1 = yearly_avg['average']\n",
    "yearly_avg_1.head()\n",
    "yearly_avg.iloc[:,3]'''''\n"
   ]
  },
  {
   "cell_type": "code",
   "execution_count": 26,
   "metadata": {},
   "outputs": [
    {
     "data": {
      "text/plain": [
       "\"df['ang_temp']=df.mean(['average'])\""
      ]
     },
     "execution_count": 26,
     "metadata": {},
     "output_type": "execute_result"
    }
   ],
   "source": [
    "'''df['ang_temp']=df.mean(['average'])'''\n",
    "\n"
   ]
  },
  {
   "cell_type": "code",
   "execution_count": 27,
   "metadata": {},
   "outputs": [
    {
     "data": {
      "text/plain": [
       "'# translate index name into English\\n#new_df.index.name = \\'sdf\\'\\n\\n# calculate the yearly average air temperature\\ndf.groupby(\"year\").mean()\\n#df = df[\\'average\\'].mean().reset_index\\n#df.set_index(\\'decimal\\')\\n# drop columns containing monthly values\\ndf = df[[\\'avg\\']]\\n\\n# visualize the first 5 columns\\ndf.head()'"
      ]
     },
     "execution_count": 27,
     "metadata": {},
     "output_type": "execute_result"
    }
   ],
   "source": [
    "\n",
    "\n",
    "'''# translate index name into English\n",
    "#new_df.index.name = 'sdf'\n",
    "\n",
    "# calculate the yearly average air temperature\n",
    "df.groupby(\"year\").mean()\n",
    "#df = df['average'].mean().reset_index\n",
    "#df.set_index('decimal')\n",
    "# drop columns containing monthly values\n",
    "df = df[['avg']]\n",
    "\n",
    "# visualize the first 5 columns\n",
    "df.head()'''"
   ]
  }
 ],
 "metadata": {
  "kernelspec": {
   "display_name": "Python 3.10.7 64-bit",
   "language": "python",
   "name": "python3"
  },
  "language_info": {
   "codemirror_mode": {
    "name": "ipython",
    "version": 3
   },
   "file_extension": ".py",
   "mimetype": "text/x-python",
   "name": "python",
   "nbconvert_exporter": "python",
   "pygments_lexer": "ipython3",
   "version": "3.10.7"
  },
  "orig_nbformat": 4,
  "vscode": {
   "interpreter": {
    "hash": "26de051ba29f2982a8de78e945f0abaf191376122a1563185a90213a26c5da77"
   }
  }
 },
 "nbformat": 4,
 "nbformat_minor": 2
}
